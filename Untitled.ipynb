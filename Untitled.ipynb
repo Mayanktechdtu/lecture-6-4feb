{
 "cells": [
  {
   "cell_type": "code",
   "execution_count": 2,
   "id": "d63e8b45-101f-4729-8321-4f5614205573",
   "metadata": {},
   "outputs": [],
   "source": [
    "#func genrators #(for memory utilization)"
   ]
  },
  {
   "cell_type": "code",
   "execution_count": 3,
   "id": "457c34b6-d220-42bd-b47a-c581804a5dc8",
   "metadata": {},
   "outputs": [],
   "source": [
    "def test_fib(n):\n",
    "    a,b=0,1\n",
    "    for i in range(n):\n",
    "        yield a\n",
    "        a,b=b,a+b"
   ]
  },
  {
   "cell_type": "code",
   "execution_count": 4,
   "id": "86429ecb-54ff-48d8-9bd6-ae0e56874da1",
   "metadata": {},
   "outputs": [
    {
     "name": "stdout",
     "output_type": "stream",
     "text": [
      "0\n",
      "1\n",
      "1\n",
      "2\n",
      "3\n",
      "5\n",
      "8\n",
      "13\n",
      "21\n",
      "34\n",
      "55\n",
      "89\n",
      "144\n",
      "233\n",
      "377\n"
     ]
    }
   ],
   "source": [
    "for i in test_fib(15):\n",
    "    print(i)"
   ]
  },
  {
   "cell_type": "code",
   "execution_count": 7,
   "id": "3e1687aa-f0fb-4e18-b686-199be020e7a1",
   "metadata": {},
   "outputs": [],
   "source": [
    "def test_fib():\n",
    "    a,b=0,1\n",
    "    while True:\n",
    "        yield a\n",
    "        a,b=b,a+b"
   ]
  },
  {
   "cell_type": "code",
   "execution_count": 8,
   "id": "bbdb3ea4-33e2-4b67-a814-84b8394d18c4",
   "metadata": {},
   "outputs": [],
   "source": [
    "fib=test_fib()"
   ]
  },
  {
   "cell_type": "code",
   "execution_count": 9,
   "id": "eaf28b8b-5b53-408f-b8c0-166d61184099",
   "metadata": {},
   "outputs": [
    {
     "name": "stdout",
     "output_type": "stream",
     "text": [
      "0\n",
      "1\n",
      "1\n",
      "2\n",
      "3\n",
      "5\n",
      "8\n",
      "13\n",
      "21\n",
      "34\n"
     ]
    }
   ],
   "source": [
    "for i in range(10):\n",
    "    print(next(fib))"
   ]
  },
  {
   "cell_type": "code",
   "execution_count": 10,
   "id": "fdd3f2e7-b88e-46d4-a497-46025d143c71",
   "metadata": {},
   "outputs": [],
   "source": [
    "#undersstand concept of next"
   ]
  },
  {
   "cell_type": "code",
   "execution_count": 11,
   "id": "d1b40f2b-a0d3-4cd4-a3de-fbbb304f4f4d",
   "metadata": {},
   "outputs": [
    {
     "name": "stdout",
     "output_type": "stream",
     "text": [
      "m\n",
      "a\n",
      "y\n",
      "a\n"
     ]
    }
   ],
   "source": [
    "a=\"maya\"\n",
    "for i in a:\n",
    "    print(i)"
   ]
  },
  {
   "cell_type": "code",
   "execution_count": 12,
   "id": "19a2c0c4-8472-4813-949e-4fa09651ae10",
   "metadata": {},
   "outputs": [
    {
     "ename": "TypeError",
     "evalue": "'str' object is not an iterator",
     "output_type": "error",
     "traceback": [
      "\u001b[0;31m---------------------------------------------------------------------------\u001b[0m",
      "\u001b[0;31mTypeError\u001b[0m                                 Traceback (most recent call last)",
      "Cell \u001b[0;32mIn[12], line 1\u001b[0m\n\u001b[0;32m----> 1\u001b[0m \u001b[38;5;28;43mnext\u001b[39;49m\u001b[43m(\u001b[49m\u001b[43ma\u001b[49m\u001b[43m)\u001b[49m\n",
      "\u001b[0;31mTypeError\u001b[0m: 'str' object is not an iterator"
     ]
    }
   ],
   "source": [
    "next(a)"
   ]
  },
  {
   "cell_type": "code",
   "execution_count": 13,
   "id": "1bb49650-2ce9-4b20-8dfa-0fd945fce7f3",
   "metadata": {},
   "outputs": [],
   "source": [
    "#str is not iterator but it can convert nd become iterable"
   ]
  },
  {
   "cell_type": "code",
   "execution_count": 18,
   "id": "09f15539-0430-4bef-8014-ea5af4f57092",
   "metadata": {},
   "outputs": [],
   "source": [
    "a1=iter(a) #now str converted to itrable"
   ]
  },
  {
   "cell_type": "code",
   "execution_count": 19,
   "id": "4f869148-ef10-4452-bab0-ced0d15f7ce8",
   "metadata": {},
   "outputs": [
    {
     "data": {
      "text/plain": [
       "'m'"
      ]
     },
     "execution_count": 19,
     "metadata": {},
     "output_type": "execute_result"
    }
   ],
   "source": [
    "next(a1)"
   ]
  },
  {
   "cell_type": "code",
   "execution_count": 17,
   "id": "d70be58d-c569-4e4d-88da-f2da7c9df1f5",
   "metadata": {},
   "outputs": [
    {
     "data": {
      "text/plain": [
       "'a'"
      ]
     },
     "execution_count": 17,
     "metadata": {},
     "output_type": "execute_result"
    }
   ],
   "source": [
    "next(a1)"
   ]
  },
  {
   "cell_type": "code",
   "execution_count": 20,
   "id": "9ad1c24a-d203-42df-8b10-2fd025085e0b",
   "metadata": {},
   "outputs": [],
   "source": [
    "#float,int. are not itrators therfor they cant convert to itrables"
   ]
  },
  {
   "cell_type": "code",
   "execution_count": 21,
   "id": "eef808de-f55b-49ec-9006-4f7c325fa7e3",
   "metadata": {},
   "outputs": [],
   "source": [
    "#lamba function"
   ]
  },
  {
   "cell_type": "code",
   "execution_count": 25,
   "id": "aef8881d-8117-445c-a35d-f68b9425ca2b",
   "metadata": {},
   "outputs": [],
   "source": [
    "a=3\n",
    "b=2\n",
    "l=lambda a,b:a*b #one liner\n"
   ]
  },
  {
   "cell_type": "code",
   "execution_count": 27,
   "id": "b0973e39-dd31-4a40-94ac-408ce0112557",
   "metadata": {},
   "outputs": [
    {
     "data": {
      "text/plain": [
       "6"
      ]
     },
     "execution_count": 27,
     "metadata": {},
     "output_type": "execute_result"
    }
   ],
   "source": [
    "l(a,b)"
   ]
  },
  {
   "cell_type": "code",
   "execution_count": 24,
   "id": "1a527025-802b-4a83-9064-ad8719ebee7c",
   "metadata": {},
   "outputs": [
    {
     "data": {
      "text/plain": [
       "623"
      ]
     },
     "execution_count": 24,
     "metadata": {},
     "output_type": "execute_result"
    }
   ],
   "source": [
    "l(7,89)"
   ]
  },
  {
   "cell_type": "code",
   "execution_count": 37,
   "id": "f0673168-fe25-4bd3-9a24-492fc947aeba",
   "metadata": {},
   "outputs": [],
   "source": [
    "s=\"mayandssk\"\n",
    "c=lambda s:len(s)"
   ]
  },
  {
   "cell_type": "code",
   "execution_count": 38,
   "id": "696cf341-5d2f-42d5-900f-7bada066660b",
   "metadata": {},
   "outputs": [
    {
     "data": {
      "text/plain": [
       "9"
      ]
     },
     "execution_count": 38,
     "metadata": {},
     "output_type": "execute_result"
    }
   ],
   "source": [
    "c(s)"
   ]
  },
  {
   "cell_type": "code",
   "execution_count": 55,
   "id": "45fc9e93-aa11-40a5-bf6a-cc10aa5baf08",
   "metadata": {},
   "outputs": [],
   "source": [
    "s=\"mayandssk\"\n",
    "c=lambda s:s[6:] "
   ]
  },
  {
   "cell_type": "code",
   "execution_count": 56,
   "id": "7bce2d9d-af20-4624-ad4c-1405ab23d234",
   "metadata": {},
   "outputs": [
    {
     "data": {
      "text/plain": [
       "'ssk'"
      ]
     },
     "execution_count": 56,
     "metadata": {},
     "output_type": "execute_result"
    }
   ],
   "source": [
    "c(s)"
   ]
  },
  {
   "cell_type": "code",
   "execution_count": 57,
   "id": "606f9a89-48e2-46e2-ad14-87c42cf3bebd",
   "metadata": {},
   "outputs": [],
   "source": [
    "#map"
   ]
  },
  {
   "cell_type": "code",
   "execution_count": 58,
   "id": "113f18bd-ed2d-4fc7-9d6d-8885d6078120",
   "metadata": {},
   "outputs": [],
   "source": [
    "l=[1,4,43,2,12]\n"
   ]
  },
  {
   "cell_type": "code",
   "execution_count": 62,
   "id": "5851958c-6f12-4359-93b2-0b1fc36ef21c",
   "metadata": {},
   "outputs": [],
   "source": [
    "def test(l):\n",
    "    l1=[]\n",
    "    for i in l:\n",
    "        l1.append(i**2)\n",
    "    return l1\n",
    "        "
   ]
  },
  {
   "cell_type": "code",
   "execution_count": 63,
   "id": "8c7fd725-3821-4e6b-ab6e-ee4978cf2537",
   "metadata": {},
   "outputs": [
    {
     "data": {
      "text/plain": [
       "[1, 16, 1849, 4, 144]"
      ]
     },
     "execution_count": 63,
     "metadata": {},
     "output_type": "execute_result"
    }
   ],
   "source": [
    "test(l)"
   ]
  },
  {
   "cell_type": "code",
   "execution_count": 65,
   "id": "6c34a39b-96af-48a9-85e3-1690d0ffa986",
   "metadata": {},
   "outputs": [
    {
     "data": {
      "text/plain": [
       "[1, 16, 1849, 4, 144]"
      ]
     },
     "execution_count": 65,
     "metadata": {},
     "output_type": "execute_result"
    }
   ],
   "source": [
    "list(map(lambda x:x**2,l)) #map func req. 2 elements funct. and itrables"
   ]
  },
  {
   "cell_type": "code",
   "execution_count": 66,
   "id": "b3daaf8c-9d47-4956-8ef9-50cee47d0994",
   "metadata": {},
   "outputs": [],
   "source": [
    "def sq(x):\n",
    "    return x**2"
   ]
  },
  {
   "cell_type": "code",
   "execution_count": 67,
   "id": "d5b372ea-74fc-41d9-936b-10c94a4b8f92",
   "metadata": {},
   "outputs": [
    {
     "data": {
      "text/plain": [
       "[1, 16, 1849, 4, 144]"
      ]
     },
     "execution_count": 67,
     "metadata": {},
     "output_type": "execute_result"
    }
   ],
   "source": [
    "list(map(sq,l))"
   ]
  },
  {
   "cell_type": "code",
   "execution_count": 68,
   "id": "e8207a33-939c-44df-bb0a-572e489b7d6c",
   "metadata": {},
   "outputs": [],
   "source": [
    "#reduce"
   ]
  },
  {
   "cell_type": "code",
   "execution_count": 69,
   "id": "bb950d96-117d-4761-bd24-56d7ee883500",
   "metadata": {},
   "outputs": [],
   "source": [
    "from functools import reduce"
   ]
  },
  {
   "cell_type": "code",
   "execution_count": 85,
   "id": "e9aa9f6f-0446-425c-9a4e-0e3f104db7e0",
   "metadata": {},
   "outputs": [],
   "source": [
    "l=[1,2,3,455,55]\n"
   ]
  },
  {
   "cell_type": "code",
   "execution_count": 86,
   "id": "4462336c-658b-470b-b028-6d3c0880530c",
   "metadata": {},
   "outputs": [
    {
     "data": {
      "text/plain": [
       "516"
      ]
     },
     "execution_count": 86,
     "metadata": {},
     "output_type": "execute_result"
    }
   ],
   "source": [
    "reduce(lambda x,y:x+y,l)"
   ]
  },
  {
   "cell_type": "code",
   "execution_count": 87,
   "id": "b7398c5e-4e1f-41c6-84dd-5af7cf465201",
   "metadata": {},
   "outputs": [
    {
     "ename": "TypeError",
     "evalue": "<lambda>() missing 1 required positional argument: 'z'",
     "output_type": "error",
     "traceback": [
      "\u001b[0;31m---------------------------------------------------------------------------\u001b[0m",
      "\u001b[0;31mTypeError\u001b[0m                                 Traceback (most recent call last)",
      "Cell \u001b[0;32mIn[87], line 1\u001b[0m\n\u001b[0;32m----> 1\u001b[0m \u001b[43mreduce\u001b[49m\u001b[43m(\u001b[49m\u001b[38;5;28;43;01mlambda\u001b[39;49;00m\u001b[43m \u001b[49m\u001b[43mx\u001b[49m\u001b[43m,\u001b[49m\u001b[43my\u001b[49m\u001b[43m,\u001b[49m\u001b[43mz\u001b[49m\u001b[43m:\u001b[49m\u001b[43mx\u001b[49m\u001b[38;5;241;43m+\u001b[39;49m\u001b[43my\u001b[49m\u001b[38;5;241;43m+\u001b[39;49m\u001b[43mz\u001b[49m\u001b[43m,\u001b[49m\u001b[43ml\u001b[49m\u001b[43m)\u001b[49m \u001b[38;5;66;03m#max 2 varibles only\u001b[39;00m\n",
      "\u001b[0;31mTypeError\u001b[0m: <lambda>() missing 1 required positional argument: 'z'"
     ]
    }
   ],
   "source": [
    "reduce(lambda x,y,z:x+y+z,l) #max 2 varibles only"
   ]
  },
  {
   "cell_type": "code",
   "execution_count": 88,
   "id": "c956aeb8-24e5-405c-add0-777e7b58ace9",
   "metadata": {},
   "outputs": [
    {
     "data": {
      "text/plain": [
       "[3, 4, 5, 457, 57]"
      ]
     },
     "execution_count": 88,
     "metadata": {},
     "output_type": "execute_result"
    }
   ],
   "source": [
    "list(map(lambda x:x+2,l))"
   ]
  },
  {
   "cell_type": "code",
   "execution_count": 89,
   "id": "b24886da-7781-49e5-ad3c-575caa3a3d01",
   "metadata": {},
   "outputs": [
    {
     "data": {
      "text/plain": [
       "[1, 2, 3, 455, 55]"
      ]
     },
     "execution_count": 89,
     "metadata": {},
     "output_type": "execute_result"
    }
   ],
   "source": [
    "l"
   ]
  },
  {
   "cell_type": "code",
   "execution_count": 90,
   "id": "a9d1474c-84b8-4c6e-a2ae-5cee37a0fc66",
   "metadata": {},
   "outputs": [
    {
     "data": {
      "text/plain": [
       "455"
      ]
     },
     "execution_count": 90,
     "metadata": {},
     "output_type": "execute_result"
    }
   ],
   "source": [
    "reduce(lambda x,y:max(x,y),l)"
   ]
  },
  {
   "cell_type": "code",
   "execution_count": 93,
   "id": "a5f774bf-c160-4808-830c-e64d0af928c0",
   "metadata": {},
   "outputs": [
    {
     "data": {
      "text/plain": [
       "455"
      ]
     },
     "execution_count": 93,
     "metadata": {},
     "output_type": "execute_result"
    }
   ],
   "source": [
    "reduce(lambda x,y: x if x>y else y,l)"
   ]
  },
  {
   "cell_type": "code",
   "execution_count": 94,
   "id": "a71b5b8f-eff1-42ff-b49f-9e9ca67d3a37",
   "metadata": {},
   "outputs": [],
   "source": [
    "#filter"
   ]
  },
  {
   "cell_type": "code",
   "execution_count": 95,
   "id": "dc049d8c-19d1-4eb9-abd5-01d945da89ae",
   "metadata": {},
   "outputs": [
    {
     "data": {
      "text/plain": [
       "[1, 2, 3, 455, 55]"
      ]
     },
     "execution_count": 95,
     "metadata": {},
     "output_type": "execute_result"
    }
   ],
   "source": [
    "l"
   ]
  },
  {
   "cell_type": "code",
   "execution_count": 102,
   "id": "15e9b00d-a78a-4691-8efd-91c32a27f6cf",
   "metadata": {},
   "outputs": [
    {
     "data": {
      "text/plain": [
       "<filter at 0x7f8867e41660>"
      ]
     },
     "execution_count": 102,
     "metadata": {},
     "output_type": "execute_result"
    }
   ],
   "source": [
    "filter(lambda x:x%2,l)"
   ]
  },
  {
   "cell_type": "code",
   "execution_count": 104,
   "id": "d595acfa-4ae2-42cf-b4ae-bed77c40a699",
   "metadata": {},
   "outputs": [
    {
     "data": {
      "text/plain": [
       "[1, 3, 455, 55]"
      ]
     },
     "execution_count": 104,
     "metadata": {},
     "output_type": "execute_result"
    }
   ],
   "source": [
    "list(filter(lambda x:x%2,l))"
   ]
  },
  {
   "cell_type": "code",
   "execution_count": 106,
   "id": "2249c574-585c-4963-bf1a-21b7e10467f2",
   "metadata": {},
   "outputs": [
    {
     "data": {
      "text/plain": [
       "[2]"
      ]
     },
     "execution_count": 106,
     "metadata": {},
     "output_type": "execute_result"
    }
   ],
   "source": [
    "list(filter(lambda x:x%2==0,l))"
   ]
  },
  {
   "cell_type": "code",
   "execution_count": 108,
   "id": "2d541554-a987-49bd-a43f-97142a31cc80",
   "metadata": {},
   "outputs": [
    {
     "data": {
      "text/plain": [
       "[1, 3, 455, 55]"
      ]
     },
     "execution_count": 108,
     "metadata": {},
     "output_type": "execute_result"
    }
   ],
   "source": [
    "list(filter(lambda x:x%2!=0,l)) #not equal"
   ]
  },
  {
   "cell_type": "code",
   "execution_count": 109,
   "id": "5389c533-9697-45da-9c4d-4aeb22f653c8",
   "metadata": {},
   "outputs": [],
   "source": [
    "a=[2,3,4,-7,-56,-6]"
   ]
  },
  {
   "cell_type": "code",
   "execution_count": 112,
   "id": "a5670d15-9c31-4062-b8a6-5c7cabc729d3",
   "metadata": {},
   "outputs": [
    {
     "data": {
      "text/plain": [
       "[2, 3, 4]"
      ]
     },
     "execution_count": 112,
     "metadata": {},
     "output_type": "execute_result"
    }
   ],
   "source": [
    "list(filter(lambda x:x>=0,a))"
   ]
  },
  {
   "cell_type": "code",
   "execution_count": 114,
   "id": "e9999a47-7dee-424d-9982-dc8dea978d0b",
   "metadata": {},
   "outputs": [
    {
     "data": {
      "text/plain": [
       "[-7, -56, -6]"
      ]
     },
     "execution_count": 114,
     "metadata": {},
     "output_type": "execute_result"
    }
   ],
   "source": [
    "list(filter(lambda x:x<0,a))"
   ]
  },
  {
   "cell_type": "code",
   "execution_count": 132,
   "id": "f9095083-28ab-418a-85dd-1ade65fd6523",
   "metadata": {},
   "outputs": [],
   "source": [
    "b=[\"maank\",\"ddsdssd\",\"safaasaf\"]"
   ]
  },
  {
   "cell_type": "code",
   "execution_count": 134,
   "id": "086b4a45-cbf9-449c-ae04-8e5f99781b3f",
   "metadata": {},
   "outputs": [
    {
     "data": {
      "text/plain": [
       "['maank']"
      ]
     },
     "execution_count": 134,
     "metadata": {},
     "output_type": "execute_result"
    }
   ],
   "source": [
    "list(filter(lambda x:len(x)<6,b))"
   ]
  },
  {
   "cell_type": "code",
   "execution_count": null,
   "id": "90992c52-4f9c-42e5-954a-3d6dae73124a",
   "metadata": {},
   "outputs": [],
   "source": []
  }
 ],
 "metadata": {
  "kernelspec": {
   "display_name": "Python 3 (ipykernel)",
   "language": "python",
   "name": "python3"
  },
  "language_info": {
   "codemirror_mode": {
    "name": "ipython",
    "version": 3
   },
   "file_extension": ".py",
   "mimetype": "text/x-python",
   "name": "python",
   "nbconvert_exporter": "python",
   "pygments_lexer": "ipython3",
   "version": "3.10.8"
  }
 },
 "nbformat": 4,
 "nbformat_minor": 5
}
